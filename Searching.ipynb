{
 "cells": [
  {
   "cell_type": "code",
   "execution_count": 4,
   "id": "269a8e58",
   "metadata": {},
   "outputs": [
    {
     "name": "stdout",
     "output_type": "stream",
     "text": [
      "-1\n"
     ]
    }
   ],
   "source": [
    "def fun(l,x):\n",
    "    for i in l:\n",
    "        if i==x:\n",
    "            return l[i]\n",
    "        else:\n",
    "            return -1\n",
    "\n",
    "print(fun([1,2,3,4,5,6],5))"
   ]
  },
  {
   "cell_type": "code",
   "execution_count": null,
   "id": "cd363ff9",
   "metadata": {},
   "outputs": [],
   "source": []
  }
 ],
 "metadata": {
  "kernelspec": {
   "display_name": "Python 3 (ipykernel)",
   "language": "python",
   "name": "python3"
  },
  "language_info": {
   "codemirror_mode": {
    "name": "ipython",
    "version": 3
   },
   "file_extension": ".py",
   "mimetype": "text/x-python",
   "name": "python",
   "nbconvert_exporter": "python",
   "pygments_lexer": "ipython3",
   "version": "3.10.9"
  }
 },
 "nbformat": 4,
 "nbformat_minor": 5
}
