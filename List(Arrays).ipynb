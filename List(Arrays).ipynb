{
 "cells": [
  {
   "cell_type": "markdown",
   "id": "5f7b2767",
   "metadata": {},
   "source": [
    "# Lists"
   ]
  },
  {
   "cell_type": "markdown",
   "id": "2e4087b4",
   "metadata": {},
   "source": [
    "* Lists are used to store multiple items in a single variable.\n",
    "* List creates an array of items and we can access these items with the help of index\n",
    "* There might be some extra sapce assigned when we create a list so that we can carry out insertion easily"
   ]
  },
  {
   "cell_type": "markdown",
   "id": "48889867",
   "metadata": {},
   "source": [
    "### Advantages of Lists\n",
    "* Random access of items\n",
    "* Cache friendly"
   ]
  },
  {
   "cell_type": "markdown",
   "id": "25c0370b",
   "metadata": {},
   "source": [
    "### Disadvantages of Lists\n",
    "* Insertion, Deletion and search are slow"
   ]
  },
  {
   "cell_type": "markdown",
   "id": "b12fbc92",
   "metadata": {},
   "source": [
    "### Problems"
   ]
  },
  {
   "cell_type": "code",
   "execution_count": null,
   "id": "bbf500c1",
   "metadata": {},
   "outputs": [],
   "source": []
  }
 ],
 "metadata": {
  "kernelspec": {
   "display_name": "Python 3 (ipykernel)",
   "language": "python",
   "name": "python3"
  },
  "language_info": {
   "codemirror_mode": {
    "name": "ipython",
    "version": 3
   },
   "file_extension": ".py",
   "mimetype": "text/x-python",
   "name": "python",
   "nbconvert_exporter": "python",
   "pygments_lexer": "ipython3",
   "version": "3.10.9"
  }
 },
 "nbformat": 4,
 "nbformat_minor": 5
}
