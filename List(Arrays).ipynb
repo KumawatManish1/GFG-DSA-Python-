{
 "cells": [
  {
   "cell_type": "markdown",
   "id": "f147cb41",
   "metadata": {},
   "source": [
    "# Lists"
   ]
  },
  {
   "cell_type": "markdown",
   "id": "df2fdda6",
   "metadata": {},
   "source": [
    "* Lists are used to store multiple items in a single variable.\n",
    "* List creates an array of items and we can access these items with the help of index\n",
    "* There might be some extra space assigned when we create a list so that we can carry out insertion easily\n",
    "* A list i python can be sliced for getting a part of the list(known as List Slicing) "
   ]
  },
  {
   "cell_type": "markdown",
   "id": "950bc52c",
   "metadata": {},
   "source": [
    "### Advantages of Lists\n",
    "* Random access of items\n",
    "* Cache friendly"
   ]
  },
  {
   "cell_type": "markdown",
   "id": "32506fdf",
   "metadata": {},
   "source": [
    "### Disadvantages of Lists\n",
    "* Insertion, Deletion and search are slow"
   ]
  },
  {
   "cell_type": "markdown",
   "id": "7893bb41",
   "metadata": {},
   "source": [
    "### Problems"
   ]
  },
  {
   "cell_type": "markdown",
   "id": "5384c66b",
   "metadata": {},
   "source": [
    "### Get Element at Index"
   ]
  },
  {
   "cell_type": "code",
   "execution_count": 2,
   "id": "af594cc4",
   "metadata": {},
   "outputs": [],
   "source": [
    "def getByIndex(arr,n,idx):\n",
    "    \n",
    "    if idx>=n:\n",
    "        return -1\n",
    "    else:\n",
    "        return arr[idx]"
   ]
  },
  {
   "cell_type": "code",
   "execution_count": null,
   "id": "6cace4c5",
   "metadata": {},
   "outputs": [],
   "source": []
  }
 ],
 "metadata": {
  "kernelspec": {
   "display_name": "Python 3 (ipykernel)",
   "language": "python",
   "name": "python3"
  },
  "language_info": {
   "codemirror_mode": {
    "name": "ipython",
    "version": 3
   },
   "file_extension": ".py",
   "mimetype": "text/x-python",
   "name": "python",
   "nbconvert_exporter": "python",
   "pygments_lexer": "ipython3",
   "version": "3.10.9"
  }
 },
 "nbformat": 4,
 "nbformat_minor": 5
}
