{
 "cells": [
  {
   "cell_type": "markdown",
   "id": "5ebe4b4d",
   "metadata": {},
   "source": [
    "# Lists"
   ]
  },
  {
   "cell_type": "markdown",
   "id": "920489eb",
   "metadata": {},
   "source": [
    "* Lists are used to store multiple items in a single variable.\n",
    "* List creates an array of items and we can access these items with the help of index\n",
    "* There might be some extra space assigned when we create a list so that we can carry out insertion easily\n",
    "* A list i python can be sliced for getting a part of the list(known as List Slicing) "
   ]
  },
  {
   "cell_type": "markdown",
   "id": "566cb1a1",
   "metadata": {},
   "source": [
    "### Advantages of Lists\n",
    "* Random access of items\n",
    "* Cache friendly"
   ]
  },
  {
   "cell_type": "markdown",
   "id": "feb19e1e",
   "metadata": {},
   "source": [
    "### Disadvantages of Lists\n",
    "* Insertion, Deletion and search are slow"
   ]
  },
  {
   "cell_type": "markdown",
   "id": "d281d1a2",
   "metadata": {},
   "source": [
    "### Problems\n"
   ]
  },
  {
   "cell_type": "markdown",
   "id": "97eb7217",
   "metadata": {},
   "source": [
    "#### Get Element at Index"
   ]
  },
  {
   "cell_type": "code",
   "execution_count": 2,
   "id": "552ac8f7",
   "metadata": {},
   "outputs": [],
   "source": [
    "def getByIndex(arr,n,idx):\n",
    "    \n",
    "    if idx>=n:\n",
    "        return -1\n",
    "    else:\n",
    "        return arr[idx]"
   ]
  },
  {
   "cell_type": "markdown",
   "id": "a730ae09",
   "metadata": {},
   "source": [
    "#### Array Insert at  End"
   ]
  },
  {
   "cell_type": "code",
   "execution_count": 3,
   "id": "5f7ad662",
   "metadata": {},
   "outputs": [],
   "source": [
    "def insertAtEnd(arr,sizeOfArray,element):\n",
    "    return arr.append(element)"
   ]
  },
  {
   "cell_type": "markdown",
   "id": "a17ba2d2",
   "metadata": {},
   "source": [
    "#### Array Insert at Index"
   ]
  },
  {
   "cell_type": "code",
   "execution_count": 4,
   "id": "d64ded58",
   "metadata": {},
   "outputs": [],
   "source": [
    " def insertAtIndex(self, arr, sizeOfArray, index, element):\n",
    "        return arr.insert(index,element)"
   ]
  },
  {
   "cell_type": "markdown",
   "id": "29dc0e87",
   "metadata": {},
   "source": [
    "#### Array Update at Index"
   ]
  },
  {
   "cell_type": "code",
   "execution_count": 5,
   "id": "c3d80613",
   "metadata": {},
   "outputs": [],
   "source": [
    "def updateArray(arr,n,idx,element):\n",
    "    arr.pop(idx)\n",
    "    arr.insert(idx,element)\n",
    "    return arr"
   ]
  },
  {
   "cell_type": "markdown",
   "id": "c1cdcb2b",
   "metadata": {},
   "source": [
    "#### Array Delete and Shift"
   ]
  },
  {
   "cell_type": "code",
   "execution_count": 6,
   "id": "45a88069",
   "metadata": {},
   "outputs": [],
   "source": [
    "def deleteFromArray(arr,n,idx):\n",
    "    arr.pop(idx)\n",
    "    arr.append(0)\n",
    "    return arr"
   ]
  },
  {
   "cell_type": "markdown",
   "id": "ca9e24a4",
   "metadata": {},
   "source": [
    "#### Sum of Array ELement"
   ]
  },
  {
   "cell_type": "code",
   "execution_count": 7,
   "id": "0ebb0ce9",
   "metadata": {},
   "outputs": [],
   "source": [
    "def sumElement(arr,n):\n",
    "     sum=0\n",
    "     for i in arr:\n",
    "         sum=sum+i\n",
    "     return sum"
   ]
  },
  {
   "cell_type": "markdown",
   "id": "1470303b",
   "metadata": {},
   "source": [
    "#### Mean and Median of Array"
   ]
  },
  {
   "cell_type": "code",
   "execution_count": 8,
   "id": "ff24f973",
   "metadata": {},
   "outputs": [],
   "source": [
    "class Solution:\n",
    "    \n",
    "    #Function to find median of the array elements.\n",
    "    def median(self,A,N):\n",
    "        \n",
    "        A.sort()\n",
    "        if N%2==0:\n",
    "            return int((A[N//2 -1]+A[N//2])/2)\n",
    "        else:\n",
    "            return int((A[N//2]))\n",
    "        \n",
    "        \n",
    "\n",
    "     \n",
    "    #Function to find mean of the array elements.   \n",
    "    def mean(self,A,N):\n",
    "        return int(sum(A)/N)"
   ]
  },
  {
   "cell_type": "markdown",
   "id": "7430d8d8",
   "metadata": {},
   "source": [
    "#### Reverse the Array"
   ]
  },
  {
   "cell_type": "code",
   "execution_count": 9,
   "id": "3ec0da21",
   "metadata": {},
   "outputs": [],
   "source": [
    "def reverseArray(arr,n):\n",
    "    return arr.reverse()"
   ]
  },
  {
   "cell_type": "code",
   "execution_count": null,
   "id": "853c4ec2",
   "metadata": {},
   "outputs": [],
   "source": []
  }
 ],
 "metadata": {
  "kernelspec": {
   "display_name": "Python 3 (ipykernel)",
   "language": "python",
   "name": "python3"
  },
  "language_info": {
   "codemirror_mode": {
    "name": "ipython",
    "version": 3
   },
   "file_extension": ".py",
   "mimetype": "text/x-python",
   "name": "python",
   "nbconvert_exporter": "python",
   "pygments_lexer": "ipython3",
   "version": "3.10.9"
  }
 },
 "nbformat": 4,
 "nbformat_minor": 5
}
