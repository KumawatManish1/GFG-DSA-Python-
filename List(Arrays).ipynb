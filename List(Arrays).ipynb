{
 "cells": [
  {
   "cell_type": "markdown",
   "id": "0f80cc38",
   "metadata": {},
   "source": [
    "# Lists"
   ]
  },
  {
   "cell_type": "markdown",
   "id": "757a4a3a",
   "metadata": {},
   "source": [
    "* Lists are used to store multiple items in a single variable.\n",
    "* List creates an array of items and we can access these items with the help of index\n",
    "* There might be some extra space assigned when we create a list so that we can carry out insertion easily\n",
    "* A list i python can be sliced for getting a part of the list(known as List Slicing) "
   ]
  },
  {
   "cell_type": "markdown",
   "id": "c8eb8c22",
   "metadata": {},
   "source": [
    "### Advantages of Lists\n",
    "* Random access of items\n",
    "* Cache friendly"
   ]
  },
  {
   "cell_type": "markdown",
   "id": "601e3fc9",
   "metadata": {},
   "source": [
    "### Disadvantages of Lists\n",
    "* Insertion, Deletion and search are slow"
   ]
  },
  {
   "cell_type": "markdown",
   "id": "513bfb5c",
   "metadata": {},
   "source": [
    "### Problems\n",
    "    1.Get Element at Index\n",
    "    2.Array Insert at End\n",
    "    3.Array Insert at Index\n",
    "    4.Array Update at Index\n",
    "    5.Array Delete and Shift\n",
    "    6.Sum of Array ELement\n",
    "    7."
   ]
  },
  {
   "cell_type": "markdown",
   "id": "82200dcb",
   "metadata": {},
   "source": [
    "#### Get Element at Index"
   ]
  },
  {
   "cell_type": "code",
   "execution_count": 2,
   "id": "3c2e4ab3",
   "metadata": {},
   "outputs": [],
   "source": [
    "def getByIndex(arr,n,idx):\n",
    "    \n",
    "    if idx>=n:\n",
    "        return -1\n",
    "    else:\n",
    "        return arr[idx]"
   ]
  },
  {
   "cell_type": "markdown",
   "id": "ea50b634",
   "metadata": {},
   "source": [
    "#### Array Insert at  End"
   ]
  },
  {
   "cell_type": "code",
   "execution_count": 3,
   "id": "377a029a",
   "metadata": {},
   "outputs": [],
   "source": [
    "def insertAtEnd(arr,sizeOfArray,element):\n",
    "    return arr.append(element)"
   ]
  },
  {
   "cell_type": "markdown",
   "id": "2d0dacdf",
   "metadata": {},
   "source": [
    "#### Array Insert at Index"
   ]
  },
  {
   "cell_type": "code",
   "execution_count": 4,
   "id": "9f67eaf1",
   "metadata": {},
   "outputs": [],
   "source": [
    " def insertAtIndex(self, arr, sizeOfArray, index, element):\n",
    "        return arr.insert(index,element)"
   ]
  },
  {
   "cell_type": "markdown",
   "id": "6648aa65",
   "metadata": {},
   "source": [
    "#### Array Update at Index"
   ]
  },
  {
   "cell_type": "code",
   "execution_count": 5,
   "id": "aa157495",
   "metadata": {},
   "outputs": [],
   "source": [
    "def updateArray(arr,n,idx,element):\n",
    "    arr.pop(idx)\n",
    "    arr.insert(idx,element)\n",
    "    return arr"
   ]
  },
  {
   "cell_type": "markdown",
   "id": "c44479c8",
   "metadata": {},
   "source": [
    "#### Array Delete and Shift"
   ]
  },
  {
   "cell_type": "code",
   "execution_count": 6,
   "id": "895f35b9",
   "metadata": {},
   "outputs": [],
   "source": [
    "def deleteFromArray(arr,n,idx):\n",
    "    arr.pop(idx)\n",
    "    arr.append(0)\n",
    "    return arr"
   ]
  },
  {
   "cell_type": "markdown",
   "id": "36d3f484",
   "metadata": {},
   "source": [
    "#### Sum of Array ELement"
   ]
  },
  {
   "cell_type": "code",
   "execution_count": 7,
   "id": "c304b1a6",
   "metadata": {},
   "outputs": [],
   "source": [
    "def sumElement(arr,n):\n",
    "     sum=0\n",
    "     for i in arr:\n",
    "         sum=sum+i\n",
    "     return sum"
   ]
  },
  {
   "cell_type": "markdown",
   "id": "25dfeda3",
   "metadata": {},
   "source": [
    "#### Mean and Median of Array"
   ]
  },
  {
   "cell_type": "code",
   "execution_count": 8,
   "id": "ceaf852f",
   "metadata": {},
   "outputs": [],
   "source": [
    "class Solution:\n",
    "    \n",
    "    #Function to find median of the array elements.\n",
    "    def median(self,A,N):\n",
    "        \n",
    "        A.sort()\n",
    "        if N%2==0:\n",
    "            return int((A[N//2 -1]+A[N//2])/2)\n",
    "        else:\n",
    "            return int((A[N//2]))\n",
    "        \n",
    "        \n",
    "\n",
    "     \n",
    "    #Function to find mean of the array elements.   \n",
    "    def mean(self,A,N):\n",
    "        return int(sum(A)/N)"
   ]
  },
  {
   "cell_type": "markdown",
   "id": "fc084196",
   "metadata": {},
   "source": [
    "#### Reverse the Array"
   ]
  },
  {
   "cell_type": "code",
   "execution_count": 9,
   "id": "8c8ebb83",
   "metadata": {},
   "outputs": [],
   "source": [
    "def reverseArray(arr,n):\n",
    "    return arr.reverse()"
   ]
  },
  {
   "cell_type": "code",
   "execution_count": null,
   "id": "e5d38b50",
   "metadata": {},
   "outputs": [],
   "source": []
  }
 ],
 "metadata": {
  "kernelspec": {
   "display_name": "Python 3 (ipykernel)",
   "language": "python",
   "name": "python3"
  },
  "language_info": {
   "codemirror_mode": {
    "name": "ipython",
    "version": 3
   },
   "file_extension": ".py",
   "mimetype": "text/x-python",
   "name": "python",
   "nbconvert_exporter": "python",
   "pygments_lexer": "ipython3",
   "version": "3.10.9"
  }
 },
 "nbformat": 4,
 "nbformat_minor": 5
}
