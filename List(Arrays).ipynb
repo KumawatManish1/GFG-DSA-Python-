{
 "cells": [
  {
   "cell_type": "markdown",
   "id": "51f7a5cd",
   "metadata": {},
   "source": [
    "# Lists"
   ]
  },
  {
   "cell_type": "markdown",
   "id": "1ecf3e84",
   "metadata": {},
   "source": [
    "* Lists are used to store multiple items in a single variable.\n",
    "* List creates an array of items and we can access these items with the help of index\n",
    "* There might be some extra space assigned when we create a list so that we can carry out insertion easily\n",
    "* A list i python can be sliced for getting a part of the list(known as List Slicing) "
   ]
  },
  {
   "cell_type": "markdown",
   "id": "18a5a01f",
   "metadata": {},
   "source": [
    "### Advantages of Lists\n",
    "* Random access of items\n",
    "* Cache friendly"
   ]
  },
  {
   "cell_type": "markdown",
   "id": "da49cba5",
   "metadata": {},
   "source": [
    "### Disadvantages of Lists\n",
    "* Insertion, Deletion and search are slow"
   ]
  },
  {
   "cell_type": "markdown",
   "id": "d0f9e202",
   "metadata": {},
   "source": [
    "### Problems\n",
    "    1.Get Element at Index\n",
    "    2.Array Insert at End\n",
    "    3.Array Insert at Index\n",
    "    4.Array Update at Index\n",
    "    5.Array Delete and Shift\n",
    "    6.Sum of Array ELement\n",
    "    7.Mean and Median of Array\n",
    "    8.Reverse the Array"
   ]
  },
  {
   "cell_type": "markdown",
   "id": "b6cff993",
   "metadata": {},
   "source": [
    "#### Get Element at Index"
   ]
  },
  {
   "cell_type": "code",
   "execution_count": 2,
   "id": "3a25bf8d",
   "metadata": {},
   "outputs": [],
   "source": [
    "def getByIndex(arr,n,idx):\n",
    "    \n",
    "    if idx>=n:\n",
    "        return -1\n",
    "    else:\n",
    "        return arr[idx]"
   ]
  },
  {
   "cell_type": "markdown",
   "id": "70498f3b",
   "metadata": {},
   "source": [
    "#### Array Insert at  End"
   ]
  },
  {
   "cell_type": "code",
   "execution_count": 3,
   "id": "21fbc67f",
   "metadata": {},
   "outputs": [],
   "source": [
    "def insertAtEnd(arr,sizeOfArray,element):\n",
    "    return arr.append(element)"
   ]
  },
  {
   "cell_type": "markdown",
   "id": "461d54a4",
   "metadata": {},
   "source": [
    "#### Array Insert at Index"
   ]
  },
  {
   "cell_type": "code",
   "execution_count": 4,
   "id": "e53f6dfd",
   "metadata": {},
   "outputs": [],
   "source": [
    " def insertAtIndex(self, arr, sizeOfArray, index, element):\n",
    "        return arr.insert(index,element)"
   ]
  },
  {
   "cell_type": "markdown",
   "id": "5cb431ff",
   "metadata": {},
   "source": [
    "#### Array Update at Index"
   ]
  },
  {
   "cell_type": "code",
   "execution_count": 5,
   "id": "3ed99635",
   "metadata": {},
   "outputs": [],
   "source": [
    "def updateArray(arr,n,idx,element):\n",
    "    arr.pop(idx)\n",
    "    arr.insert(idx,element)\n",
    "    return arr"
   ]
  },
  {
   "cell_type": "markdown",
   "id": "0fcc707c",
   "metadata": {},
   "source": [
    "#### Array Delete and Shift"
   ]
  },
  {
   "cell_type": "code",
   "execution_count": 6,
   "id": "3492603c",
   "metadata": {},
   "outputs": [],
   "source": [
    "def deleteFromArray(arr,n,idx):\n",
    "    arr.pop(idx)\n",
    "    arr.append(0)\n",
    "    return arr"
   ]
  },
  {
   "cell_type": "markdown",
   "id": "166f188f",
   "metadata": {},
   "source": [
    "#### Sum of Array ELement"
   ]
  },
  {
   "cell_type": "code",
   "execution_count": 7,
   "id": "d5498f7f",
   "metadata": {},
   "outputs": [],
   "source": [
    "def sumElement(arr,n):\n",
    "     sum=0\n",
    "     for i in arr:\n",
    "         sum=sum+i\n",
    "     return sum"
   ]
  },
  {
   "cell_type": "markdown",
   "id": "5cb002da",
   "metadata": {},
   "source": [
    "#### Mean and Median of Array"
   ]
  },
  {
   "cell_type": "code",
   "execution_count": 8,
   "id": "d9f57bef",
   "metadata": {},
   "outputs": [],
   "source": [
    "class Solution:\n",
    "    \n",
    "    #Function to find median of the array elements.\n",
    "    def median(self,A,N):\n",
    "        \n",
    "        A.sort()\n",
    "        if N%2==0:\n",
    "            return int((A[N//2 -1]+A[N//2])/2)\n",
    "        else:\n",
    "            return int((A[N//2]))\n",
    "        \n",
    "        \n",
    "\n",
    "     \n",
    "    #Function to find mean of the array elements.   \n",
    "    def mean(self,A,N):\n",
    "        return int(sum(A)/N)"
   ]
  },
  {
   "cell_type": "markdown",
   "id": "caf405f4",
   "metadata": {},
   "source": [
    "#### Reverse the Array"
   ]
  },
  {
   "cell_type": "code",
   "execution_count": 9,
   "id": "68c5040c",
   "metadata": {},
   "outputs": [],
   "source": [
    "def reverseArray(arr,n):\n",
    "    return arr.reverse()"
   ]
  },
  {
   "cell_type": "code",
   "execution_count": null,
   "id": "8c911933",
   "metadata": {},
   "outputs": [],
   "source": []
  }
 ],
 "metadata": {
  "kernelspec": {
   "display_name": "Python 3 (ipykernel)",
   "language": "python",
   "name": "python3"
  },
  "language_info": {
   "codemirror_mode": {
    "name": "ipython",
    "version": 3
   },
   "file_extension": ".py",
   "mimetype": "text/x-python",
   "name": "python",
   "nbconvert_exporter": "python",
   "pygments_lexer": "ipython3",
   "version": "3.10.9"
  }
 },
 "nbformat": 4,
 "nbformat_minor": 5
}
