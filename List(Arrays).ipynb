{
 "cells": [
  {
   "cell_type": "markdown",
   "id": "0ee58755",
   "metadata": {},
   "source": [
    "# Lists"
   ]
  },
  {
   "cell_type": "markdown",
   "id": "b7697e6a",
   "metadata": {},
   "source": [
    "* Lists are used to store multiple items in a single variable.\n",
    "* List creates an array of items and we can access these items with the help of index\n",
    "* There might be some extra space assigned when we create a list so that we can carry out insertion easily\n",
    "* A list i python can be sliced for getting a part of the list(known as List Slicing) "
   ]
  },
  {
   "cell_type": "markdown",
   "id": "b7e58ff3",
   "metadata": {},
   "source": [
    "### Advantages of Lists\n",
    "* Random access of items\n",
    "* Cache friendly"
   ]
  },
  {
   "cell_type": "markdown",
   "id": "a3785f47",
   "metadata": {},
   "source": [
    "### Disadvantages of Lists\n",
    "* Insertion, Deletion and search are slow"
   ]
  },
  {
   "cell_type": "markdown",
   "id": "91beaf25",
   "metadata": {},
   "source": [
    "### Problems"
   ]
  },
  {
   "cell_type": "markdown",
   "id": "3a5a9514",
   "metadata": {},
   "source": [
    "#### Get Element at Index"
   ]
  },
  {
   "cell_type": "code",
   "execution_count": 2,
   "id": "cdab5a7c",
   "metadata": {},
   "outputs": [],
   "source": [
    "def getByIndex(arr,n,idx):\n",
    "    \n",
    "    if idx>=n:\n",
    "        return -1\n",
    "    else:\n",
    "        return arr[idx]"
   ]
  },
  {
   "cell_type": "markdown",
   "id": "10a67d28",
   "metadata": {},
   "source": [
    "#### Array Insert at  End"
   ]
  },
  {
   "cell_type": "code",
   "execution_count": 3,
   "id": "8b82cecd",
   "metadata": {},
   "outputs": [],
   "source": [
    "def insertAtEnd(arr,sizeOfArray,element):\n",
    "    return arr.append(element)"
   ]
  },
  {
   "cell_type": "markdown",
   "id": "8c2d4eeb",
   "metadata": {},
   "source": [
    "#### Array Insert at Index"
   ]
  },
  {
   "cell_type": "code",
   "execution_count": 4,
   "id": "7bc23cb9",
   "metadata": {},
   "outputs": [],
   "source": [
    " def insertAtIndex(self, arr, sizeOfArray, index, element):\n",
    "        return arr.insert(index,element)"
   ]
  },
  {
   "cell_type": "markdown",
   "id": "74bf22fd",
   "metadata": {},
   "source": [
    "#### Array Update at Index"
   ]
  },
  {
   "cell_type": "code",
   "execution_count": 5,
   "id": "0ae8460a",
   "metadata": {},
   "outputs": [],
   "source": [
    "def updateArray(arr,n,idx,element):\n",
    "    arr.pop(idx)\n",
    "    arr.insert(idx,element)\n",
    "    return arr"
   ]
  },
  {
   "cell_type": "markdown",
   "id": "170df333",
   "metadata": {},
   "source": [
    "#### Array Delete and Shift"
   ]
  },
  {
   "cell_type": "code",
   "execution_count": 6,
   "id": "438d17b3",
   "metadata": {},
   "outputs": [],
   "source": [
    "def deleteFromArray(arr,n,idx):\n",
    "    arr.pop(idx)\n",
    "    arr.append(0)\n",
    "    return arr"
   ]
  },
  {
   "cell_type": "markdown",
   "id": "27d6b607",
   "metadata": {},
   "source": [
    "#### Sum of Array ELement"
   ]
  },
  {
   "cell_type": "code",
   "execution_count": 7,
   "id": "5cef8399",
   "metadata": {},
   "outputs": [],
   "source": [
    "def sumElement(arr,n):\n",
    "     sum=0\n",
    "     for i in arr:\n",
    "         sum=sum+i\n",
    "     return sum"
   ]
  },
  {
   "cell_type": "markdown",
   "id": "3db737ec",
   "metadata": {},
   "source": [
    "#### Mean and Median of Array"
   ]
  },
  {
   "cell_type": "code",
   "execution_count": 8,
   "id": "39101b29",
   "metadata": {},
   "outputs": [],
   "source": [
    "class Solution:\n",
    "    \n",
    "    #Function to find median of the array elements.\n",
    "    def median(self,A,N):\n",
    "        \n",
    "        A.sort()\n",
    "        if N%2==0:\n",
    "            return int((A[N//2 -1]+A[N//2])/2)\n",
    "        else:\n",
    "            return int((A[N//2]))\n",
    "        \n",
    "        \n",
    "\n",
    "     \n",
    "    #Function to find mean of the array elements.   \n",
    "    def mean(self,A,N):\n",
    "        return int(sum(A)/N)"
   ]
  },
  {
   "cell_type": "code",
   "execution_count": null,
   "id": "cc9ebce8",
   "metadata": {},
   "outputs": [],
   "source": []
  }
 ],
 "metadata": {
  "kernelspec": {
   "display_name": "Python 3 (ipykernel)",
   "language": "python",
   "name": "python3"
  },
  "language_info": {
   "codemirror_mode": {
    "name": "ipython",
    "version": 3
   },
   "file_extension": ".py",
   "mimetype": "text/x-python",
   "name": "python",
   "nbconvert_exporter": "python",
   "pygments_lexer": "ipython3",
   "version": "3.10.9"
  }
 },
 "nbformat": 4,
 "nbformat_minor": 5
}
