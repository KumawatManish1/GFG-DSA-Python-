{
 "cells": [
  {
   "cell_type": "markdown",
   "id": "076bcc42",
   "metadata": {},
   "source": [
    "# Recursion"
   ]
  },
  {
   "cell_type": "markdown",
   "id": "a9701710",
   "metadata": {},
   "source": [
    "A function call itself directly or indirectly is called Recursion"
   ]
  },
  {
   "cell_type": "markdown",
   "id": "a899664c",
   "metadata": {},
   "source": [
    "### Typical Structure of Recursive function"
   ]
  },
  {
   "cell_type": "markdown",
   "id": "bdfe8cb1",
   "metadata": {},
   "source": [
    "'''\n",
    "def fun():\n",
    "    # Base Cases\n",
    "    ------------\n",
    "    ------------\n",
    "    Recursive call(i.e. Call to function fun())\n",
    "    with atleast one change to parameter so that\n",
    "    call approches toward a base case\n",
    "    ------------\n",
    "    ------------\n",
    "\n",
    "'''"
   ]
  },
  {
   "cell_type": "markdown",
   "id": "50777d01",
   "metadata": {},
   "source": [
    "### Applications of Recursion"
   ]
  },
  {
   "cell_type": "markdown",
   "id": "c3fd55d8",
   "metadata": {},
   "source": [
    "1. Many algorithm techniques are based on Recursion\n",
    "   * Dynamic Programming\n",
    "   * Backtracking\n",
    "   * Divide and Conquer(Binary search, Quick Sort and Merge Sort)\n",
    "2. Many problems inherently recursive\n",
    "   * Tower of Hanoi\n",
    "   * DFS based Traversal"
   ]
  },
  {
   "cell_type": "markdown",
   "id": "3435f467",
   "metadata": {},
   "source": [
    "### Tail Recursion"
   ]
  },
  {
   "cell_type": "markdown",
   "id": "deb4ce46",
   "metadata": {},
   "source": [
    "A Recursive function is called Tail Recursive if the function does not do anything after the last recursive call"
   ]
  },
  {
   "cell_type": "code",
   "execution_count": 4,
   "id": "edeb6860",
   "metadata": {},
   "outputs": [],
   "source": [
    "# for Example\n",
    "\n",
    "def fun(n):\n",
    "    if n<=0:\n",
    "        return\n",
    "    print(n,end=\"\")\n",
    "    fun(n-1)"
   ]
  },
  {
   "cell_type": "markdown",
   "id": "6d04d24f",
   "metadata": {},
   "source": [
    "### Problems"
   ]
  },
  {
   "cell_type": "markdown",
   "id": "2bb81c0b",
   "metadata": {},
   "source": [
    "#### Factorial "
   ]
  },
  {
   "cell_type": "code",
   "execution_count": 1,
   "id": "d9a2fccc",
   "metadata": {},
   "outputs": [
    {
     "name": "stdout",
     "output_type": "stream",
     "text": [
      "120\n"
     ]
    }
   ],
   "source": [
    "def fact(n):\n",
    "    if n==0 or n==1:          #Base Case\n",
    "        return 1\n",
    "    else:\n",
    "        return n*fact(n-1)    #Recursive Function\n",
    "    \n",
    "print(fact(5))"
   ]
  },
  {
   "cell_type": "markdown",
   "id": "1889b4f1",
   "metadata": {},
   "source": [
    "#### N-th Fibonacci Number"
   ]
  },
  {
   "cell_type": "code",
   "execution_count": 3,
   "id": "d2bed3bb",
   "metadata": {},
   "outputs": [
    {
     "name": "stdout",
     "output_type": "stream",
     "text": [
      "89\n"
     ]
    }
   ],
   "source": [
    "def fiboNum(n):\n",
    "    if n==0:\n",
    "        return 0\n",
    "    elif n==1:\n",
    "        return 1\n",
    "    else:\n",
    "        return fiboNum(n-1)+fiboNum(n-2)\n",
    "\n",
    "print(fiboNum())"
   ]
  },
  {
   "cell_type": "code",
   "execution_count": null,
   "id": "5f8c487d",
   "metadata": {},
   "outputs": [],
   "source": []
  }
 ],
 "metadata": {
  "kernelspec": {
   "display_name": "Python 3 (ipykernel)",
   "language": "python",
   "name": "python3"
  },
  "language_info": {
   "codemirror_mode": {
    "name": "ipython",
    "version": 3
   },
   "file_extension": ".py",
   "mimetype": "text/x-python",
   "name": "python",
   "nbconvert_exporter": "python",
   "pygments_lexer": "ipython3",
   "version": "3.10.9"
  }
 },
 "nbformat": 4,
 "nbformat_minor": 5
}
