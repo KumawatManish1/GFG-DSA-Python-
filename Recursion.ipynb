{
 "cells": [
  {
   "cell_type": "markdown",
   "id": "076bcc42",
   "metadata": {},
   "source": [
    "# Recursion"
   ]
  },
  {
   "cell_type": "markdown",
   "id": "5f6a8552",
   "metadata": {},
   "source": [
    "A function call itself directly or indirectly is called Recursion"
   ]
  },
  {
   "cell_type": "markdown",
   "id": "cdcde470",
   "metadata": {},
   "source": [
    "### Typical Structure of Recursive function"
   ]
  },
  {
   "cell_type": "markdown",
   "id": "2bfc8980",
   "metadata": {},
   "source": [
    "'''\n",
    "def fun():\n",
    "    # Base Cases\n",
    "    ------------\n",
    "    ------------\n",
    "    Recursive call(i.e. Call to function fun())\n",
    "    with atleast one change to parameter so that\n",
    "    call approches toward a base case\n",
    "    ------------\n",
    "    ------------\n",
    "\n",
    "'''"
   ]
  },
  {
   "cell_type": "markdown",
   "id": "d7c06015",
   "metadata": {},
   "source": [
    "### Applications of Recursion"
   ]
  },
  {
   "cell_type": "markdown",
   "id": "51fc051d",
   "metadata": {},
   "source": [
    "1. Many algorithm techniques are based on Recursion\n",
    "   * Dynamic Programming\n",
    "   * Backtracking\n",
    "   * Divide and Conquer(Binary search, Quick Sort and Merge Sort)\n",
    "2. Many problems inherently recursive\n",
    "   * Tower of Hanoi\n",
    "   * DFS based Traversal"
   ]
  },
  {
   "cell_type": "markdown",
   "id": "7a446f64",
   "metadata": {},
   "source": [
    "### Tail Recursion"
   ]
  },
  {
   "cell_type": "markdown",
   "id": "6393dc84",
   "metadata": {},
   "source": [
    "A Recursive function is called Tail Recursive if the function does not do anything after the last recursive call"
   ]
  },
  {
   "cell_type": "code",
   "execution_count": 4,
   "id": "aedc0497",
   "metadata": {},
   "outputs": [],
   "source": [
    "# for Example\n",
    "\n",
    "def fun(n):\n",
    "    if n<=0:\n",
    "        return\n",
    "    print(n,end=\"\")\n",
    "    fun(n-1)"
   ]
  },
  {
   "cell_type": "markdown",
   "id": "bca209c1",
   "metadata": {},
   "source": [
    "### Problems"
   ]
  },
  {
   "cell_type": "markdown",
   "id": "b846bbdd",
   "metadata": {},
   "source": [
    "#### Factorial "
   ]
  },
  {
   "cell_type": "code",
   "execution_count": 1,
   "id": "8ad8fcd5",
   "metadata": {},
   "outputs": [
    {
     "name": "stdout",
     "output_type": "stream",
     "text": [
      "120\n"
     ]
    }
   ],
   "source": [
    "def fact(n):\n",
    "    if n==0 or n==1:          #Base Case\n",
    "        return 1\n",
    "    else:\n",
    "        return n*fact(n-1)    #Recursive Function\n",
    "    \n",
    "print(fact(5))"
   ]
  },
  {
   "cell_type": "markdown",
   "id": "66e78444",
   "metadata": {},
   "source": [
    "#### N-th Fibonacci Number"
   ]
  },
  {
   "cell_type": "code",
   "execution_count": 3,
   "id": "154bb72c",
   "metadata": {},
   "outputs": [
    {
     "name": "stdout",
     "output_type": "stream",
     "text": [
      "89\n"
     ]
    }
   ],
   "source": [
    "def fiboNum(n):\n",
    "    if n==0:\n",
    "        return 0\n",
    "    elif n==1:\n",
    "        return 1\n",
    "    else:\n",
    "        return fiboNum(n-1)+fiboNum(n-2)\n",
    "\n",
    "print(fiboNum())"
   ]
  },
  {
   "cell_type": "markdown",
   "id": "428de25b",
   "metadata": {},
   "source": [
    "#### The Sequence"
   ]
  },
  {
   "cell_type": "code",
   "execution_count": 5,
   "id": "46c2d0d4",
   "metadata": {},
   "outputs": [],
   "source": [
    "def theSequence(n):\n",
    "    #code here\n",
    "    if n==0:\n",
    "        return 1\n",
    "    return n+n*(theSequence(n-1))"
   ]
  },
  {
   "cell_type": "code",
   "execution_count": null,
   "id": "50cacb41",
   "metadata": {},
   "outputs": [],
   "source": [
    "\n"
   ]
  }
 ],
 "metadata": {
  "kernelspec": {
   "display_name": "Python 3 (ipykernel)",
   "language": "python",
   "name": "python3"
  },
  "language_info": {
   "codemirror_mode": {
    "name": "ipython",
    "version": 3
   },
   "file_extension": ".py",
   "mimetype": "text/x-python",
   "name": "python",
   "nbconvert_exporter": "python",
   "pygments_lexer": "ipython3",
   "version": "3.10.9"
  }
 },
 "nbformat": 4,
 "nbformat_minor": 5
}
