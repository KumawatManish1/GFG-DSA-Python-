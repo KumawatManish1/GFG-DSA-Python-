{
 "cells": [
  {
   "cell_type": "markdown",
   "id": "076bcc42",
   "metadata": {},
   "source": [
    "# Recursion"
   ]
  },
  {
   "cell_type": "markdown",
   "id": "59a56e32",
   "metadata": {},
   "source": [
    "* A function call itself directly or indirectly is called Recursion"
   ]
  },
  {
   "cell_type": "markdown",
   "id": "39eef363",
   "metadata": {},
   "source": [
    "### Typical Structure of Recursive function"
   ]
  },
  {
   "cell_type": "markdown",
   "id": "060b4ef1",
   "metadata": {},
   "source": [
    "'''\n",
    "def fun():\n",
    "    # Base Cases\n",
    "    ------------\n",
    "    ------------\n",
    "    Recursive call(i.e. Call to function fun())\n",
    "    with atleast one change to parameter so that\n",
    "    call approches toward a base case\n",
    "    ------------\n",
    "    ------------\n",
    "\n",
    "'''"
   ]
  },
  {
   "cell_type": "code",
   "execution_count": null,
   "id": "0f5ad208",
   "metadata": {},
   "outputs": [],
   "source": []
  }
 ],
 "metadata": {
  "kernelspec": {
   "display_name": "Python 3 (ipykernel)",
   "language": "python",
   "name": "python3"
  },
  "language_info": {
   "codemirror_mode": {
    "name": "ipython",
    "version": 3
   },
   "file_extension": ".py",
   "mimetype": "text/x-python",
   "name": "python",
   "nbconvert_exporter": "python",
   "pygments_lexer": "ipython3",
   "version": "3.10.9"
  }
 },
 "nbformat": 4,
 "nbformat_minor": 5
}
