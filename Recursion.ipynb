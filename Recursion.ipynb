{
 "cells": [
  {
   "cell_type": "markdown",
   "id": "076bcc42",
   "metadata": {},
   "source": [
    "# Recursion"
   ]
  },
  {
   "cell_type": "markdown",
   "id": "5299135a",
   "metadata": {},
   "source": [
    "A function call itself directly or indirectly is called Recursion"
   ]
  },
  {
   "cell_type": "markdown",
   "id": "9bf3cac1",
   "metadata": {},
   "source": [
    "### Typical Structure of Recursive function"
   ]
  },
  {
   "cell_type": "markdown",
   "id": "4bd6ffe7",
   "metadata": {},
   "source": [
    "'''\n",
    "def fun():\n",
    "    # Base Cases\n",
    "    ------------\n",
    "    ------------\n",
    "    Recursive call(i.e. Call to function fun())\n",
    "    with atleast one change to parameter so that\n",
    "    call approches toward a base case\n",
    "    ------------\n",
    "    ------------\n",
    "\n",
    "'''"
   ]
  },
  {
   "cell_type": "markdown",
   "id": "0f1c0564",
   "metadata": {},
   "source": [
    "### Applications of Recursion"
   ]
  },
  {
   "cell_type": "markdown",
   "id": "0275ee0e",
   "metadata": {},
   "source": [
    "1. Many algorithm techniques are based on Recursion\n",
    "   * Dynamic Programming\n",
    "   * Backtracking\n",
    "   * Divide and Conquer(Binary search, Quick Sort and Merge Sort)\n",
    "2. Many problems inherently recursive\n",
    "   * Tower of Hanoi\n",
    "   * DFS based Traversal"
   ]
  },
  {
   "cell_type": "markdown",
   "id": "cf90192f",
   "metadata": {},
   "source": [
    "### Tail Recursion"
   ]
  },
  {
   "cell_type": "markdown",
   "id": "31cdba03",
   "metadata": {},
   "source": [
    "A Recursive function is called Tail Recursive if the function does not do anything after the last recursive call"
   ]
  },
  {
   "cell_type": "markdown",
   "id": "239e8931",
   "metadata": {},
   "source": [
    "### Problems"
   ]
  },
  {
   "cell_type": "code",
   "execution_count": null,
   "id": "60a55d79",
   "metadata": {},
   "outputs": [],
   "source": [
    "#### Factoria"
   ]
  }
 ],
 "metadata": {
  "kernelspec": {
   "display_name": "Python 3 (ipykernel)",
   "language": "python",
   "name": "python3"
  },
  "language_info": {
   "codemirror_mode": {
    "name": "ipython",
    "version": 3
   },
   "file_extension": ".py",
   "mimetype": "text/x-python",
   "name": "python",
   "nbconvert_exporter": "python",
   "pygments_lexer": "ipython3",
   "version": "3.10.9"
  }
 },
 "nbformat": 4,
 "nbformat_minor": 5
}
