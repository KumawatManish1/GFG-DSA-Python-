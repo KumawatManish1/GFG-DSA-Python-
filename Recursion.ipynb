{
 "cells": [
  {
   "cell_type": "markdown",
   "id": "076bcc42",
   "metadata": {},
   "source": [
    "# Recursion"
   ]
  },
  {
   "cell_type": "markdown",
   "id": "a3c421a6",
   "metadata": {},
   "source": [
    "A function call itself directly or indirectly is called Recursion"
   ]
  },
  {
   "cell_type": "markdown",
   "id": "fd785f6b",
   "metadata": {},
   "source": [
    "### Typical Structure of Recursive function"
   ]
  },
  {
   "cell_type": "markdown",
   "id": "f0f1557d",
   "metadata": {},
   "source": [
    "'''\n",
    "def fun():\n",
    "    # Base Cases\n",
    "    ------------\n",
    "    ------------\n",
    "    Recursive call(i.e. Call to function fun())\n",
    "    with atleast one change to parameter so that\n",
    "    call approches toward a base case\n",
    "    ------------\n",
    "    ------------\n",
    "\n",
    "'''"
   ]
  },
  {
   "cell_type": "markdown",
   "id": "ab008831",
   "metadata": {},
   "source": [
    "### Applications of Recursion"
   ]
  },
  {
   "cell_type": "markdown",
   "id": "3668b285",
   "metadata": {},
   "source": [
    "1. Many algorithm techniques are based on Recursion\n",
    "   * Dynamic Programming\n",
    "   * Backtracking\n",
    "   * Divide and Conquer(Binary search, Quick Sort and Merge Sort)\n",
    "2. Many problems inherently recursive\n",
    "   * Tower of Hanoi\n",
    "   * DFS based Traversal"
   ]
  },
  {
   "cell_type": "markdown",
   "id": "8f2e23f0",
   "metadata": {},
   "source": [
    "### Tail Recursion"
   ]
  },
  {
   "cell_type": "markdown",
   "id": "9e22893c",
   "metadata": {},
   "source": [
    "A Recursive function is called Tail Recursive if the function does not do anything after the last recursive call"
   ]
  },
  {
   "cell_type": "code",
   "execution_count": 4,
   "id": "fb625047",
   "metadata": {},
   "outputs": [],
   "source": [
    "# for Example\n",
    "\n",
    "def fun(n):\n",
    "    if n<=0:\n",
    "        return\n",
    "    print(n,end=\"\")\n",
    "    fun(n-1)"
   ]
  },
  {
   "cell_type": "markdown",
   "id": "35176da8",
   "metadata": {},
   "source": [
    "### Problems"
   ]
  },
  {
   "cell_type": "markdown",
   "id": "2024cb1b",
   "metadata": {},
   "source": [
    "#### Factorial "
   ]
  },
  {
   "cell_type": "code",
   "execution_count": 1,
   "id": "0ae9fe7b",
   "metadata": {},
   "outputs": [
    {
     "name": "stdout",
     "output_type": "stream",
     "text": [
      "120\n"
     ]
    }
   ],
   "source": [
    "def fact(n):\n",
    "    if n==0 or n==1:          #Base Case\n",
    "        return 1\n",
    "    else:\n",
    "        return n*fact(n-1)    #Recursive Function\n",
    "    \n",
    "print(fact(5))"
   ]
  },
  {
   "cell_type": "markdown",
   "id": "2610ff79",
   "metadata": {},
   "source": [
    "#### N-th Fibonacci Number"
   ]
  },
  {
   "cell_type": "code",
   "execution_count": 3,
   "id": "62b19e23",
   "metadata": {},
   "outputs": [
    {
     "name": "stdout",
     "output_type": "stream",
     "text": [
      "89\n"
     ]
    }
   ],
   "source": [
    "def fiboNum(n):\n",
    "    if n==0:\n",
    "        return 0\n",
    "    elif n==1:\n",
    "        return 1\n",
    "    else:\n",
    "        return fiboNum(n-1)+fiboNum(n-2)\n",
    "\n",
    "print(fiboNum())"
   ]
  },
  {
   "cell_type": "markdown",
   "id": "ba5d103e",
   "metadata": {},
   "source": [
    "#### The Sequence"
   ]
  },
  {
   "cell_type": "code",
   "execution_count": 5,
   "id": "c609d6f8",
   "metadata": {},
   "outputs": [],
   "source": [
    "def theSequence(n):\n",
    "    #code here\n",
    "    if n==0:\n",
    "        return 1\n",
    "    return n+n*(theSequence(n-1))"
   ]
  },
  {
   "cell_type": "markdown",
   "id": "79fdffc7",
   "metadata": {},
   "source": [
    "\n",
    "#### Print 1 to N without loops"
   ]
  },
  {
   "cell_type": "code",
   "execution_count": 6,
   "id": "443d4404",
   "metadata": {},
   "outputs": [],
   "source": [
    "#User function Template for python3\n",
    "\n",
    "class Solution:    \n",
    "    #Complete this function\n",
    "    def printNos(self,N):\n",
    "        #Your code here\n",
    "        if N == 0:\n",
    "            return\n",
    "        self.printNos(N-1)\n",
    "        print(N, end=\" \")\n"
   ]
  },
  {
   "cell_type": "code",
   "execution_count": null,
   "id": "5b269e09",
   "metadata": {},
   "outputs": [],
   "source": []
  },
  {
   "cell_type": "code",
   "execution_count": null,
   "id": "19c00fbd",
   "metadata": {},
   "outputs": [],
   "source": [
    "class Solution:\n",
    "    def sumOfDigits(self, n):\n",
    "        \n",
    "        # code here\n",
    "        if n == 0:\n",
    "            return 0\n",
    "        \n",
    "        return n % 10 + self.sumOfDigits(n // 10)"
   ]
  }
 ],
 "metadata": {
  "kernelspec": {
   "display_name": "Python 3 (ipykernel)",
   "language": "python",
   "name": "python3"
  },
  "language_info": {
   "codemirror_mode": {
    "name": "ipython",
    "version": 3
   },
   "file_extension": ".py",
   "mimetype": "text/x-python",
   "name": "python",
   "nbconvert_exporter": "python",
   "pygments_lexer": "ipython3",
   "version": "3.10.9"
  }
 },
 "nbformat": 4,
 "nbformat_minor": 5
}
