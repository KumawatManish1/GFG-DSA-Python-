{
 "cells": [
  {
   "cell_type": "markdown",
   "id": "076bcc42",
   "metadata": {},
   "source": [
    "# Recursion"
   ]
  },
  {
   "cell_type": "markdown",
   "id": "712c9d75",
   "metadata": {},
   "source": [
    "* A function call itself directly or indirectly is called Recursion"
   ]
  },
  {
   "cell_type": "markdown",
   "id": "802e8d63",
   "metadata": {},
   "source": [
    "### Typical Structure of Recursive function"
   ]
  },
  {
   "cell_type": "markdown",
   "id": "8d2b0bb9",
   "metadata": {},
   "source": [
    "'''\n",
    "def fun():\n",
    "    # Base Cases\n",
    "    ------------\n",
    "    ------------\n",
    "    Recursive call(i.e. Call to function fun())\n",
    "    with atleast one change to parameter so that\n",
    "    call approches toward a base case\n",
    "    ------------\n",
    "    ------------\n",
    "\n",
    "'''"
   ]
  },
  {
   "cell_type": "markdown",
   "id": "03cceafe",
   "metadata": {},
   "source": [
    "### Applications of Recursion"
   ]
  },
  {
   "cell_type": "markdown",
   "id": "ba27d0da",
   "metadata": {},
   "source": [
    "1. Many algorithm techniques are based on Recursion\n",
    "   * Dynamic Programming\n",
    "   * Backtracking\n",
    "   * Divide and Conquer(Binary search, Quick Sort and Merge Sort)\n",
    "2. Many problems inherently recursive\n",
    "   * Tower of Hanoi\n",
    "   * DFS based Traversal"
   ]
  },
  {
   "cell_type": "code",
   "execution_count": null,
   "id": "5a3d1f84",
   "metadata": {},
   "outputs": [],
   "source": [
    "### T"
   ]
  }
 ],
 "metadata": {
  "kernelspec": {
   "display_name": "Python 3 (ipykernel)",
   "language": "python",
   "name": "python3"
  },
  "language_info": {
   "codemirror_mode": {
    "name": "ipython",
    "version": 3
   },
   "file_extension": ".py",
   "mimetype": "text/x-python",
   "name": "python",
   "nbconvert_exporter": "python",
   "pygments_lexer": "ipython3",
   "version": "3.10.9"
  }
 },
 "nbformat": 4,
 "nbformat_minor": 5
}
